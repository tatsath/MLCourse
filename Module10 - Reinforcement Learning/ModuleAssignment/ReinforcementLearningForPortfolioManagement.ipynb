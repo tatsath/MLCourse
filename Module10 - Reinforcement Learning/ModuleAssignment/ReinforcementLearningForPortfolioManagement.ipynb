{
 "cells": [
  {
   "cell_type": "markdown",
   "metadata": {
    "_cell_guid": "83708667-4fdc-1563-7b3a-06b6575d2865"
   },
   "source": [
    "# Reinforcement Learning for Portfolio Allocation\n",
    "\n",
    "In this case study, similar to Case Study 1 of this chapter, use the Reinforcement Learning models to come up with a policy for optimal portfolio allocation among a set of cryptocurrencies.\n"
   ]
  },
  {
   "cell_type": "markdown",
   "metadata": {},
   "source": [
    "## Content"
   ]
  },
  {
   "cell_type": "markdown",
   "metadata": {},
   "source": [
    "<a id='0'></a>\n",
    "# 1. Problem Definition"
   ]
  },
  {
   "cell_type": "markdown",
   "metadata": {},
   "source": [
    "This exercise is to come up with optimal portfolio allocation for a set of crypto currencies using Reinforcement learning framework similar to case study 1. \n",
    "\n",
    "\n",
    "The algorithm is trained using Deep QLearning framework and the components of the reinforcement learning environment are:\n",
    "\n",
    "\n",
    "* Action: Assignment and rebalancing the portfolio weights. The DQN model provides the Q-values which is further converted into portfolio weights.\n",
    "\n",
    "* Reward function: Sharpe ratio, which consists of the standard deviation as the risk assessment measure is used reward function. \n",
    "\n",
    "* State: The state is the correlation matrix of the instruments based on a specific time window. The correlation matrix is a suitable state variable for the portfolio allocation, as it contains the information about the relationships between different instruments and can be useful in performing portfolio allocation.\n",
    "\n",
    "* Environment: Cryptocurrency exchange.\n",
    "\n",
    "\n",
    "The data of cryptocurrencies that we will be using for this case study can be obtained from\n",
    "the Kaggle platform and contains the daily prices of the cryptocurrencies during the\n",
    "period of 2018. The data contains some of the most liquid cryptocurrencies such as\n",
    "Bitcoin, Ethereum, Ripple, Litecoin and Dash."
   ]
  },
  {
   "cell_type": "markdown",
   "metadata": {},
   "source": [
    "<a id='1'></a>\n",
    "# 2. Getting Started- Loading the data and python packages"
   ]
  },
  {
   "cell_type": "markdown",
   "metadata": {},
   "source": [
    "<a id='1.1'></a>\n",
    "## 2.1. Loading the python packages"
   ]
  },
  {
   "cell_type": "code",
   "execution_count": 1,
   "metadata": {},
   "outputs": [],
   "source": [
    "#Load packages\n",
    "from pandas import read_csv"
   ]
  },
  {
   "cell_type": "markdown",
   "metadata": {},
   "source": [
    "<a id='1.2'></a>\n",
    "## 2.2. Loading the Data"
   ]
  },
  {
   "cell_type": "code",
   "execution_count": 2,
   "metadata": {},
   "outputs": [],
   "source": [
    "#The data already obtained from yahoo finance is imported.\n",
    "dataset = read_csv('data/crypto_portfolio.csv',index_col=0)"
   ]
  },
  {
   "cell_type": "markdown",
   "metadata": {},
   "source": [
    "<a id='2'></a>\n",
    "# 3. Exploratory Data Analysis"
   ]
  },
  {
   "cell_type": "markdown",
   "metadata": {},
   "source": [
    "<a id='2.1'></a>\n",
    "## 3.1. Descriptive Statistics"
   ]
  },
  {
   "cell_type": "markdown",
   "metadata": {},
   "source": [
    "<a id='4'></a>\n",
    "# 4. Evaluate Algorithms and Models"
   ]
  },
  {
   "cell_type": "markdown",
   "metadata": {},
   "source": [
    "<a id='4.1'></a>\n",
    "## 4.1. Cryptocurrency environment\n",
    "Introduce a simulation environment class “CryptoEnvironment”, where\n",
    "we create a working environment for cryptocurrencies. This class has following key\n",
    "functions:\n"
   ]
  },
  {
   "cell_type": "code",
   "execution_count": 5,
   "metadata": {},
   "outputs": [],
   "source": [
    "import numpy as np\n",
    "import pandas as pd\n",
    "\n",
    "from IPython.core.debugger import set_trace\n",
    "\n",
    "#define a function portfolio\n",
    "def portfolio(returns, weights):\n",
    "    weights = np.array(weights)\n",
    "    rets = returns.mean() * 252\n",
    "    covs = returns.cov() * 252\n",
    "    P_ret = np.sum(rets * weights)\n",
    "    P_vol = np.sqrt(np.dot(weights.T, np.dot(covs, weights)))\n",
    "    P_sharpe = P_ret / P_vol\n",
    "    return np.array([P_ret, P_vol, P_sharpe])\n",
    "\n",
    "\n",
    "#class CryptoEnvironment:\n",
    "#This function should inititalize crypto environment, load data, get state and reward\n",
    "    \n",
    "  "
   ]
  },
  {
   "cell_type": "markdown",
   "metadata": {},
   "source": [
    "<a id='4.2'></a>\n",
    "## 4.2. Agent Script"
   ]
  },
  {
   "cell_type": "markdown",
   "metadata": {},
   "source": [
    "In this step we train the algorithm. In order to do that, we first initialize the “Agent” class and “CryptoEnvironment” class. "
   ]
  },
  {
   "cell_type": "markdown",
   "metadata": {},
   "source": [
    "<a id='5'></a>\n",
    "# 5. Testing the Data "
   ]
  }
 ],
 "metadata": {
  "_change_revision": 206,
  "_is_fork": false,
  "kernelspec": {
   "display_name": "Python 3 (ipykernel)",
   "language": "python",
   "name": "python3"
  },
  "language_info": {
   "codemirror_mode": {
    "name": "ipython",
    "version": 3
   },
   "file_extension": ".py",
   "mimetype": "text/x-python",
   "name": "python",
   "nbconvert_exporter": "python",
   "pygments_lexer": "ipython3",
   "version": "3.7.3"
  }
 },
 "nbformat": 4,
 "nbformat_minor": 1
}
