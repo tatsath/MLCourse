{
 "cells": [
  {
   "cell_type": "markdown",
   "metadata": {
    "_cell_guid": "83708667-4fdc-1563-7b3a-06b6575d2865"
   },
   "source": [
    "# Twitter sentiments  based Trading Strategy\n",
    "\n",
    "Use twitter sentiments to Predict Money Laundering\n",
    "\n"
   ]
  },
  {
   "cell_type": "markdown",
   "metadata": {},
   "source": [
    "<a id='1'></a>\n",
    "# 1. Problem Statement"
   ]
  },
  {
   "cell_type": "markdown",
   "metadata": {},
   "source": [
    "The exercise is to build a trading strategy that uses NLP to extracts the information inside the tweets, assigns a sentiment to that and use the sentiments and the information inside the news headlines for a trading strategy.\n",
    "\n",
    "\n",
    "The data used for tweets can be found here: https://www.kaggle.com/datasets/davidwallach/financial-tweets\n",
    "\n",
    "For this exercise:\n",
    "* Use the NLP master template and case study 1 of NLP section\n",
    "* Load the kaggle data of tweets, train a model or use the trained the model from case study 1.\n",
    "* Get the historical data of the stocks from yahoo finance and use the backtrader to build trading strategies. \n",
    "* Perform all the analysis as per the steps of machine Learning model development framework. \n",
    "* Enhance the performance of the model and model intuition.\n"
   ]
  },
  {
   "cell_type": "markdown",
   "metadata": {},
   "source": [
    "<a id='1'></a>\n",
    "# 2. Getting Started- Loading the data and python packages\n"
   ]
  },
  {
   "cell_type": "markdown",
   "metadata": {},
   "source": [
    "<a id='2.1'></a>\n",
    "## 2.1. Loading the python packages\n",
    "\n",
    "As a first step we check if the additional packages needed are present, if not install them. These are checked separately as they aren't included in requirement.txt as they aren't used for all case studies."
   ]
  },
  {
   "cell_type": "code",
   "execution_count": null,
   "metadata": {},
   "outputs": [],
   "source": [
    "import pkg_resources\n",
    "import pip\n"
   ]
  },
  {
   "cell_type": "markdown",
   "metadata": {},
   "source": [
    "Let us load the libraries"
   ]
  },
  {
   "cell_type": "markdown",
   "metadata": {},
   "source": [
    "<a id='2.2'></a>\n",
    "## 2.2. Loading the stock price data and twitter data\n",
    "\n",
    "The stock price data is loaded in this step from Yahoo Finance in this step. The loaded data is saved in csv for further use."
   ]
  },
  {
   "cell_type": "code",
   "execution_count": null,
   "metadata": {},
   "outputs": [],
   "source": [
    "tickers = ['AAPL','MSFT','AMZN','GOOG','FB','WMT','JPM','TSLA','NFLX','ADBE']\n",
    "start = '2010-01-01'\n",
    "end = '2018-12-31'\n",
    "df_ticker_return = pd.DataFrame()\n",
    "for ticker in tickers:    \n",
    "    ticker_yf = yf.Ticker(ticker)\n",
    "    if df_ticker_return.empty:\n",
    "        df_ticker_return = ticker_yf.history(start = start, end = end)\n",
    "        df_ticker_return['ticker']= ticker \n",
    "    else:\n",
    "        data_temp = ticker_yf.history(start = start, end = end)\n",
    "        data_temp['ticker']= ticker \n",
    "        df_ticker_return = df_ticker_return.append(data_temp)\n",
    "df_ticker_return.to_csv(r'Data\\Step2.2_ReturnData.csv')"
   ]
  },
  {
   "cell_type": "markdown",
   "metadata": {},
   "source": [
    "<a id='3'></a>\n",
    "# 3. Data Preparation"
   ]
  },
  {
   "cell_type": "markdown",
   "metadata": {},
   "source": [
    "<a id='3.1'></a>\n",
    "## 3.1 Preprocessing Twitter Data"
   ]
  },
  {
   "cell_type": "markdown",
   "metadata": {},
   "source": [
    "<a id='4'></a>\n",
    "# 4 Evaluate Models for Sentiment Analysis"
   ]
  },
  {
   "cell_type": "markdown",
   "metadata": {},
   "source": [
    "<a id='5'></a>\n",
    "# 5. Model Evaluation- Building a Trading Strategy"
   ]
  },
  {
   "cell_type": "markdown",
   "metadata": {},
   "source": [
    "The sentiment data can be used in different ways for the trading strategy. Sentiment scores can be used as a directional signal and ideally create a long-short portfolio, by buying the stocks with positive score and selling the stocks with negative score. The sentiments can also be used as additional features over and above other features(such as correlated stocks, technical indicators) in a supervised learning model to predict the price or come up with a trading strategy. "
   ]
  },
  {
   "cell_type": "markdown",
   "metadata": {},
   "source": [
    "<a id='5.1'></a>\n",
    "## 5.1. Setting up the strategy \n"
   ]
  },
  {
   "cell_type": "markdown",
   "metadata": {},
   "source": [
    "<a id='5.2'></a>\n",
    "## 5.2. Backtesting the strategy"
   ]
  }
 ],
 "metadata": {
  "_change_revision": 206,
  "_is_fork": false,
  "kernelspec": {
   "display_name": "Python 3 (ipykernel)",
   "language": "python",
   "name": "python3"
  },
  "language_info": {
   "codemirror_mode": {
    "name": "ipython",
    "version": 3
   },
   "file_extension": ".py",
   "mimetype": "text/x-python",
   "name": "python",
   "nbconvert_exporter": "python",
   "pygments_lexer": "ipython3",
   "version": "3.7.3"
  }
 },
 "nbformat": 4,
 "nbformat_minor": 1
}
